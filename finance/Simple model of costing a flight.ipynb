{
 "cells": [
  {
   "cell_type": "markdown",
   "metadata": {},
   "source": [
    "A short notebook to estimate the value of a ticket for a flight and what class to travel.  "
   ]
  },
  {
   "cell_type": "code",
   "execution_count": 3,
   "metadata": {},
   "outputs": [],
   "source": [
    "import pylab as pl\n",
    "import numpy as np"
   ]
  },
  {
   "cell_type": "code",
   "execution_count": 4,
   "metadata": {},
   "outputs": [],
   "source": [
    "cost_per_hour = 150 # this is the rate estimated in dollars for an astropy developers time\n"
   ]
  },
  {
   "cell_type": "markdown",
   "metadata": {},
   "source": [
    "## Simple model\n",
    "\n",
    "In a very simple model, a developer has zero productivity riding in economy class.   The total cost to the project is then the cost of the flight plus the developer time x the length of the flight.\n",
    "\n",
    "In buisiness class, the developer can at least be somewhat productive except outside of the landing time.   In this case, we can estimate that 80% of the time that the developer can be productive.  In this case, the project can recover 80% of the time while incurring the increase cost of the ticket.   So the project can recover some of the cost of the travel. \n"
   ]
  },
  {
   "cell_type": "code",
   "execution_count": 77,
   "metadata": {},
   "outputs": [],
   "source": [
    "def cost_simple_model(length_of_flight, cost_per_hour, cost_of_ticket, percent_productive_time):\n",
    "    return length_of_flight*cost_per_hour * (1.0 - percent_productive_time/100.0) + cost_of_ticket"
   ]
  },
  {
   "cell_type": "code",
   "execution_count": 78,
   "metadata": {},
   "outputs": [
    {
     "data": {
      "text/plain": [
       "480.0"
      ]
     },
     "execution_count": 78,
     "metadata": {},
     "output_type": "execute_result"
    }
   ],
   "source": [
    "cost_simple_model(4, cost_per_hour, 400, 0) - cost_simple_model(4, cost_per_hour, 400, 80)"
   ]
  },
  {
   "cell_type": "code",
   "execution_count": 79,
   "metadata": {},
   "outputs": [
    {
     "data": {
      "text/plain": [
       "960.0"
      ]
     },
     "execution_count": 79,
     "metadata": {},
     "output_type": "execute_result"
    }
   ],
   "source": [
    "cost_simple_model(8, cost_per_hour, 400, 0) - cost_simple_model(8, cost_per_hour, 400, 80)"
   ]
  },
  {
   "cell_type": "markdown",
   "metadata": {},
   "source": [
    "This model actually reduces down to be just the length of the flight times the cost per hour times the percentage of productive time.   If we assume someone can ony be productive for 8 hours, then we can limit that as the maximum cost savings for the flight. "
   ]
  },
  {
   "cell_type": "code",
   "execution_count": 80,
   "metadata": {},
   "outputs": [],
   "source": [
    "def savings(length_of_time, cost_per_hour, percent_productive_time):\n",
    "    mask = (length_of_time > 8)\n",
    "    temp = 1.0 * length_of_time\n",
    "    temp[mask] = 8\n",
    "    return temp *cost_per_hour*percent_productive_time"
   ]
  },
  {
   "cell_type": "code",
   "execution_count": 81,
   "metadata": {},
   "outputs": [],
   "source": [
    "ticket_price = np.arange(0,2000, 100)"
   ]
  },
  {
   "cell_type": "code",
   "execution_count": 82,
   "metadata": {},
   "outputs": [],
   "source": [
    "length_of_time = np.arange(0,16,1)"
   ]
  },
  {
   "cell_type": "code",
   "execution_count": 83,
   "metadata": {},
   "outputs": [
    {
     "data": {
      "image/png": "[encoded data removed]",
      "text/plain": [
       "<Figure size 432x288 with 1 Axes>"
      ]
     },
     "metadata": {
      "needs_background": "light"
     },
     "output_type": "display_data"
    }
   ],
   "source": [
    "pl.plot(length_of_time, savings(length_of_time, cost_per_hour, 0.8))\n",
    "pl.plot(length_of_time, savings(length_of_time, cost_per_hour, 0.5))\n",
    "pl.plot(length_of_time, savings(length_of_time, cost_per_hour, 0.2))\n",
    "\n",
    "pl.show()"
   ]
  },
  {
   "cell_type": "code",
   "execution_count": 84,
   "metadata": {},
   "outputs": [
    {
     "name": "stdout",
     "output_type": "stream",
     "text": [
      "[240. 840. 960.]\n",
      "[150. 525. 600.]\n",
      "[ 60. 210. 240.]\n"
     ]
    }
   ],
   "source": [
    "print(savings(np.array([2, 7, 8]), cost_per_hour, 0.8))\n",
    "print(savings(np.array([2, 7, 8]), cost_per_hour, 0.5))\n",
    "print(savings(np.array([2, 7, 8]), cost_per_hour, 0.2))"
   ]
  },
  {
   "cell_type": "markdown",
   "metadata": {},
   "source": [
    "More complex models could be constructed for the lenght of the flight and destination"
   ]
  },
  {
   "cell_type": "markdown",
   "metadata": {},
   "source": [
    "## Typical Cost of flight\n",
    "\n",
    "Googling a number of flights indicates that the cost of a flight is currently around $ \\$100$ per hour traveled.  As such, a reasonable metric for when flight costs would need to be justified would be when they are above $ \\$100$ x length of travel + $0.5 \\ x \\ \\$150 $ x length of travel or above $\\$175$ x length of travel in hours for the shortest flight between two places.  \n",
    "\n"
   ]
  },
  {
   "cell_type": "code",
   "execution_count": null,
   "metadata": {},
   "outputs": [],
   "source": []
  }
 ],
 "metadata": {
  "kernelspec": {
   "display_name": "Python 3",
   "language": "python",
   "name": "python3"
  },
  "language_info": {
   "codemirror_mode": {
    "name": "ipython",
    "version": 3
   },
   "file_extension": ".py",
   "mimetype": "text/x-python",
   "name": "python",
   "nbconvert_exporter": "python",
   "pygments_lexer": "ipython3",
   "version": "3.7.3"
  }
 },
 "nbformat": 4,
 "nbformat_minor": 2
}
